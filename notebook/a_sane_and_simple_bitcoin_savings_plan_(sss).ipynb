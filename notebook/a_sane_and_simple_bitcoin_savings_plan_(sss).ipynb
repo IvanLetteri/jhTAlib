{
  "nbformat": 4,
  "nbformat_minor": 0,
  "metadata": {
    "colab": {
      "name": "a-sane-and-simple-bitcoin-savings-plan-(sss).ipynb",
      "provenance": [],
      "private_outputs": true,
      "collapsed_sections": []
    },
    "kernelspec": {
      "name": "python3",
      "display_name": "Python 3"
    },
    "accelerator": "TPU"
  },
  "cells": [
    {
      "cell_type": "code",
      "metadata": {
        "id": "d-WqBs882BUE",
        "colab_type": "code",
        "colab": {}
      },
      "source": [
        "# source: https://bitcointalk.org/index.php?topic=345065.0\n",
        "# source: https://jlopp.github.io/bitcoin-savings-plan/\n",
        "\n",
        "\n",
        "from tabulate import tabulate as tb\n",
        "\n",
        "\n",
        "initial_investment = 10\n",
        "initial_exchange_rate = 1\n",
        "rake = 10\n",
        "number_of_cycles = 20\n",
        "cycle_multiplier = 2\n",
        "\n",
        "table = [['BTC/FIAT', 'BTC Total', 'FIAT Value', 'BTC Sold', 'FIAT Bought', 'FIAT Total', 'BTC Invested %']]\n",
        "btc_fiat = initial_exchange_rate\n",
        "btc_total = initial_investment\n",
        "fiat_value = initial_exchange_rate * btc_total\n",
        "btc_sold = .0\n",
        "fiat_bought = .0\n",
        "fiat_total = .0\n",
        "table.append([btc_fiat, btc_total, fiat_value, btc_sold, fiat_bought, fiat_total, 100])\n",
        "for i in range(number_of_cycles):\n",
        "    btc_fiat = btc_fiat * cycle_multiplier\n",
        "    btc_sold = btc_total * (rake / 100)\n",
        "    btc_total = btc_total * ((100 - rake) / 100)\n",
        "    fiat_value = btc_fiat * btc_total\n",
        "    fiat_bought = btc_fiat * btc_sold\n",
        "    fiat_total += fiat_bought\n",
        "    btc_invested = fiat_value / (fiat_value + fiat_total) * 100\n",
        "    table.append([\n",
        "                  float('{:.2f}'.format(btc_fiat)),\n",
        "                  float('{:.8f}'.format(btc_total)),\n",
        "                  float('{:.2f}'.format(fiat_value)),\n",
        "                  float('{:.8f}'.format(btc_sold)),\n",
        "                  float('{:.2f}'.format(fiat_bought)),\n",
        "                  float('{:.2f}'.format(fiat_total)),\n",
        "                  float('{:.2f}'.format(btc_invested)),\n",
        "                  ])\n",
        "table.append(table[0])\n",
        "print (tb(table, headers='firstrow', tablefmt='grid', showindex='always'))\n"
      ],
      "execution_count": 0,
      "outputs": []
    }
  ]
}